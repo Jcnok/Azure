{
  "cells": [
    {
      "cell_type": "markdown",
      "metadata": {
        "id": "view-in-github",
        "colab_type": "text"
      },
      "source": [
        "<a href=\"https://colab.research.google.com/github/Jcnok/Azure/blob/main/speek_to_text.ipynb\" target=\"_parent\"><img src=\"https://colab.research.google.com/assets/colab-badge.svg\" alt=\"Open In Colab\"/></a>"
      ]
    },
    {
      "cell_type": "markdown",
      "id": "81b14c49",
      "metadata": {
        "id": "81b14c49"
      },
      "source": [
        "# Como utilizar o serviço \"Cognitive Services\" da AZURE para converter áudio em texto."
      ]
    },
    {
      "cell_type": "markdown",
      "id": "95da76a8",
      "metadata": {
        "id": "95da76a8"
      },
      "source": [
        "## O primeiro passo é criar uma conta gratuíta e criar o serviço, Speech service. \n",
        "Segue a documentação conforme o [link](https://learn.microsoft.com/pt-br/azure/cognitive-services/speech-service/how-to-recognize-speech?pivots=programming-language-python)"
      ]
    },
    {
      "cell_type": "markdown",
      "id": "17c18256",
      "metadata": {
        "id": "17c18256"
      },
      "source": [
        "![img](https://github.com/Jcnok/Azure/blob/main/image/cognitive_service.jpg?raw=true)"
      ]
    },
    {
      "cell_type": "markdown",
      "id": "1230ac7d",
      "metadata": {
        "id": "1230ac7d"
      },
      "source": [
        "## Após criar o serviço basta copiar a chave e a região para conexão com o python.\n",
        "![img](https://github.com/Jcnok/Azure/blob/main/image/chave.jpg?raw=true)"
      ]
    },
    {
      "cell_type": "markdown",
      "id": "5dd1c4cf",
      "metadata": {
        "id": "5dd1c4cf"
      },
      "source": [
        "## Feito isso podemos criar a conexão com o jupyter."
      ]
    },
    {
      "cell_type": "code",
      "source": [
        "# Instalação do pacote para conexão\n",
        "!pip install azure-cognitiveservices-speech -q"
      ],
      "metadata": {
        "id": "CCcxHHaGmf0p"
      },
      "id": "CCcxHHaGmf0p",
      "execution_count": null,
      "outputs": []
    },
    {
      "cell_type": "code",
      "execution_count": null,
      "id": "43af8324",
      "metadata": {
        "id": "43af8324"
      },
      "outputs": [],
      "source": [
        "# importando as libs que serão utilizadas.\n",
        "import azure.cognitiveservices.speech as speechsdk\n",
        "import time"
      ]
    },
    {
      "cell_type": "code",
      "source": [
        "# Configuração da chave e região.\n",
        "speech_key, service_region = \"Sua chave azure\", \"sua região azure\""
      ],
      "metadata": {
        "id": "BJGHaGaQqzBm"
      },
      "id": "BJGHaGaQqzBm",
      "execution_count": null,
      "outputs": []
    },
    {
      "cell_type": "markdown",
      "id": "8c4e43c3",
      "metadata": {
        "id": "8c4e43c3"
      },
      "source": [
        "## Teste de conexão utilizando o microfone fala em Inglês."
      ]
    },
    {
      "cell_type": "code",
      "execution_count": null,
      "id": "892bf924",
      "metadata": {
        "id": "892bf924",
        "outputId": "99fddf2d-d594-4c7c-df5c-d9f7b5cab03b"
      },
      "outputs": [
        {
          "name": "stdout",
          "output_type": "stream",
          "text": [
            "Speak into your microphone.\n",
            "How are you? I am from Brazil and you are you from?\n"
          ]
        }
      ],
      "source": [
        "def recognize_from_mic():\n",
        "\t#Find your key and resource region under the 'Keys and Endpoint' tab in your Speech resource in Azure Portal\n",
        "\t#Remember to delete the brackets <> when pasting your key and region!\n",
        "    speech_config = speechsdk.SpeechConfig(subscription=speech_key, region=service_region)\n",
        "    speech_recognizer = speechsdk.SpeechRecognizer(speech_config=speech_config)\n",
        "    \n",
        "    #Asks user for mic input and prints transcription result on screen\n",
        "    print(\"Speak into your microphone.\")\n",
        "    result = speech_recognizer.recognize_once_async().get()\n",
        "    print(result.text)\n",
        "\n",
        "recognize_from_mic()"
      ]
    },
    {
      "cell_type": "markdown",
      "id": "05a97467",
      "metadata": {
        "id": "05a97467"
      },
      "source": [
        "## Usando o microfone para converter o áudio  português em texto:"
      ]
    },
    {
      "cell_type": "code",
      "execution_count": null,
      "id": "12b4e055",
      "metadata": {
        "id": "12b4e055",
        "outputId": "94938b97-80b0-4d01-a1b7-f19eecb2e899"
      },
      "outputs": [
        {
          "name": "stdout",
          "output_type": "stream",
          "text": [
            "Fale no seu microfone.\n",
            "Recognized: Testando 123, testando. Se a fala reconhece como um texto.\n"
          ]
        }
      ],
      "source": [
        "def recognize_from_microphone():\n",
        "    speech_config = speechsdk.SpeechConfig(subscription=speech_key, region=service_region)\n",
        "    speech_config.speech_recognition_language=\"pt-BR\" #\"en-US\"\n",
        "\n",
        "    audio_config = speechsdk.audio.AudioConfig(use_default_microphone=True)\n",
        "    speech_recognizer = speechsdk.SpeechRecognizer(speech_config=speech_config, audio_config=audio_config)\n",
        "\n",
        "    print(\"Fale no seu microfone.\")\n",
        "    speech_recognition_result = speech_recognizer.recognize_once_async().get()\n",
        "\n",
        "    if speech_recognition_result.reason == speechsdk.ResultReason.RecognizedSpeech:\n",
        "        print(\"Recognized: {}\".format(speech_recognition_result.text))\n",
        "    elif speech_recognition_result.reason == speechsdk.ResultReason.NoMatch:\n",
        "        print(\"No speech could be recognized: {}\".format(speech_recognition_result.no_match_details))\n",
        "    elif speech_recognition_result.reason == speechsdk.ResultReason.Canceled:\n",
        "        cancellation_details = speech_recognition_result.cancellation_details\n",
        "        print(\"Speech Recognition canceled: {}\".format(cancellation_details.reason))\n",
        "        if cancellation_details.reason == speechsdk.CancellationReason.Error:\n",
        "            print(\"Error details: {}\".format(cancellation_details.error_details))\n",
        "            print(\"Did you set the speech resource key and region values?\")\n",
        "\n",
        "recognize_from_microphone()"
      ]
    },
    {
      "cell_type": "markdown",
      "id": "f96cbc98",
      "metadata": {
        "id": "f96cbc98"
      },
      "source": [
        "## Configurando para converter um arquivo de áudio em texto:"
      ]
    },
    {
      "cell_type": "code",
      "execution_count": null,
      "id": "e905c37b",
      "metadata": {
        "id": "e905c37b",
        "outputId": "64c50880-9d92-45be-d124-b4a7f1893498"
      },
      "outputs": [
        {
          "name": "stdout",
          "output_type": "stream",
          "text": [
            "Fale no seu microfone.\n",
            "Recognized: Testando a configuração do áudio para conversão de fala em texto.\n"
          ]
        }
      ],
      "source": [
        "def recognize_from_microphone():\n",
        "    speech_config = speechsdk.SpeechConfig(subscription=speech_key, region=service_region)\n",
        "    speech_config.speech_recognition_language=\"pt-BR\" #\"en-US\"\n",
        "\n",
        "    audio_config = speechsdk.audio.AudioConfig(filename=\"Gravando.wav\")\n",
        "    speech_recognizer = speechsdk.SpeechRecognizer(speech_config=speech_config, audio_config=audio_config)\n",
        "\n",
        "    print(\"Lendo a arquivo de áudio.\")\n",
        "    speech_recognition_result = speech_recognizer.recognize_once_async().get()\n",
        "\n",
        "    if speech_recognition_result.reason == speechsdk.ResultReason.RecognizedSpeech:\n",
        "        print(\"Recognized: {}\".format(speech_recognition_result.text))\n",
        "    elif speech_recognition_result.reason == speechsdk.ResultReason.NoMatch:\n",
        "        print(\"No speech could be recognized: {}\".format(speech_recognition_result.no_match_details))\n",
        "    elif speech_recognition_result.reason == speechsdk.ResultReason.Canceled:\n",
        "        cancellation_details = speech_recognition_result.cancellation_details\n",
        "        print(\"Speech Recognition canceled: {}\".format(cancellation_details.reason))\n",
        "        if cancellation_details.reason == speechsdk.CancellationReason.Error:\n",
        "            print(\"Error details: {}\".format(cancellation_details.error_details))\n",
        "            print(\"Did you set the speech resource key and region values?\")\n",
        "\n",
        "recognize_from_microphone()"
      ]
    },
    {
      "cell_type": "markdown",
      "id": "7ad8d3d3",
      "metadata": {
        "id": "7ad8d3d3"
      },
      "source": [
        "## configurando para converter o arquivo de áudio inteiro."
      ]
    },
    {
      "cell_type": "code",
      "execution_count": null,
      "id": "bdc603e6",
      "metadata": {
        "id": "bdc603e6"
      },
      "outputs": [],
      "source": [
        "# Criando uma lista para salvar o texto gerado.\n",
        "lista = []"
      ]
    },
    {
      "cell_type": "code",
      "execution_count": null,
      "id": "03252a72",
      "metadata": {
        "id": "03252a72",
        "outputId": "115c29e7-b5b2-45f0-ec6c-c2edacf781aa"
      },
      "outputs": [
        {
          "name": "stdout",
          "output_type": "stream",
          "text": [
            "Incializando a sessão\n",
            "Finalizando a sessão\n"
          ]
        }
      ],
      "source": [
        "speech_config = speechsdk.SpeechConfig(subscription=speech_key, region=service_region)\n",
        "speech_config.speech_recognition_language=\"pt-BR\" #\"en-US\"\n",
        "audio_config = speechsdk.audio.AudioConfig(filename=\"Gravando_2.wav\")\n",
        "speech_recognizer = speechsdk.SpeechRecognizer(speech_config=speech_config, audio_config=audio_config)\n",
        "done = False\n",
        "def stop_cb(evt):\n",
        "    #print('CLOSING')\n",
        "    speech_recognizer.stop_continuous_recognition()\n",
        "    global done\n",
        "    done = True\n",
        "speech_recognizer.session_started.connect(lambda evt: print('Incializando a sessão'))\n",
        "speech_recognizer.recognized.connect(lambda evt:lista.append(evt.result.text))\n",
        "speech_recognizer.session_stopped.connect(lambda evt: print('Finalizando a sessão'))\n",
        "speech_recognizer.session_stopped.connect(stop_cb)\n",
        "speech_recognizer.canceled.connect(stop_cb)\n",
        "# inicializando o speech   \n",
        "speech_recognizer.start_continuous_recognition()\n",
        "while not done:\n",
        "    time.sleep(.5)"
      ]
    },
    {
      "cell_type": "code",
      "execution_count": null,
      "id": "7eeb930b",
      "metadata": {
        "id": "7eeb930b",
        "outputId": "89be25ba-195a-459d-c12f-53b799cfca40"
      },
      "outputs": [
        {
          "data": {
            "text/plain": [
              "['Neste guia de instruções, você saberá como reconhecer e transcrever a fala humana, geralmente chamada de conversão de fala intenso.',\n",
              " 'Para chamar o serviço de fala usando um SDK de fala, você precisa criar uma instância.',\n",
              " 'Essa classe inclui informações sobre sua assinatura, uma chave de fala e localização.',\n",
              " 'Um ponto de extremidade host ou token de autorização associado.']"
            ]
          },
          "execution_count": 144,
          "metadata": {},
          "output_type": "execute_result"
        }
      ],
      "source": [
        "#visualizando a lista:\n",
        "lista"
      ]
    },
    {
      "cell_type": "markdown",
      "id": "33040eba",
      "metadata": {
        "id": "33040eba"
      },
      "source": [
        "* **Podemos utilizar a lista para criar algum estudo de nlp.**\n",
        "* **Um exemplo seria identificar se os analistas estão utilizando palavras ou frases inadequadas durante um atendimento**.\n",
        "* **Imaginem um modelo capaz de identificar um atendimento inadequado de forma automática**\n",
        "* **Podemos ir mais além, por exemplo identificar um possível indicio de fraude em um atendimento.**.\n",
        "* **Podemos identificar um padrão de acordo com as informações coletadas dos analistas, para uma futura melhoria.**\n",
        "* **Podemos facílmente classificar as dores dos clientes, visando melhorias de forma mais acertiva.**\n",
        "* **São várias as alternativas que podemos utilizar, essas são apenas algumas que me vem a mente.**"
      ]
    },
    {
      "cell_type": "code",
      "execution_count": null,
      "id": "e2f790e8",
      "metadata": {
        "id": "e2f790e8",
        "outputId": "0e993e5b-e372-437e-e1ce-136ebfbb4878"
      },
      "outputs": [
        {
          "name": "stdout",
          "output_type": "stream",
          "text": [
            "A palavra não foi encontrada na lista\n",
            "A palavra não foi encontrada na lista\n",
            "A palavra não foi encontrada na lista\n",
            "A palavra não foi encontrada na lista\n",
            "A palavra não foi encontrada na lista\n",
            "a extremidade está na lista de indice 5\n"
          ]
        }
      ],
      "source": [
        "#exemplo simples para identificar uma palavra.\n",
        "palavra = 'extremidade'\n",
        "for i in range(len(lista)):\n",
        "    if palavra in (lista[i]):\n",
        "        print(f\"a {palavra} está na lista de indice {i}\")\n",
        "    else:\n",
        "        print(\"A palavra não foi encontrada na lista\")"
      ]
    },
    {
      "cell_type": "markdown",
      "id": "42ef3067",
      "metadata": {
        "id": "42ef3067"
      },
      "source": [
        "# Convertendo texto em Áudio:"
      ]
    },
    {
      "cell_type": "code",
      "execution_count": null,
      "id": "22a26add",
      "metadata": {
        "id": "22a26add"
      },
      "outputs": [],
      "source": [
        "speech_config = speechsdk.SpeechConfig(subscription=speech_key, region=service_region)"
      ]
    },
    {
      "cell_type": "code",
      "execution_count": null,
      "id": "1ff643f1",
      "metadata": {
        "id": "1ff643f1"
      },
      "outputs": [],
      "source": [
        "speech_config.speech_recognition_language=\"pt-BR\" #\"en-US\" #escrita\n",
        "speech_config.speech_synthesis_language=\"pt-BR\" #fala"
      ]
    },
    {
      "cell_type": "code",
      "execution_count": null,
      "id": "59731788",
      "metadata": {
        "id": "59731788"
      },
      "outputs": [],
      "source": [
        "speech_synthesizer = speechsdk.SpeechSynthesizer(speech_config=speech_config)"
      ]
    },
    {
      "cell_type": "code",
      "execution_count": null,
      "id": "8cd30bbe",
      "metadata": {
        "id": "8cd30bbe",
        "outputId": "65f917b4-a905-48f6-df87-174bedaad861"
      },
      "outputs": [
        {
          "name": "stdout",
          "output_type": "stream",
          "text": [
            "Type some text that you want to speak...\n",
            "Testando o sistema\n"
          ]
        }
      ],
      "source": [
        "print(\"Type some text that you want to speak...\")\n",
        "text = input()"
      ]
    },
    {
      "cell_type": "code",
      "execution_count": null,
      "id": "4bd2e940",
      "metadata": {
        "id": "4bd2e940"
      },
      "outputs": [],
      "source": [
        "text = lista[0]"
      ]
    },
    {
      "cell_type": "code",
      "execution_count": null,
      "id": "c242a4ae",
      "metadata": {
        "id": "c242a4ae",
        "outputId": "88229d20-a3bd-410a-ff26-6da976b44877"
      },
      "outputs": [
        {
          "data": {
            "text/plain": [
              "'Neste guia de instruções, você saberá como reconhecer e transcrever a fala humana, geralmente chamada de conversão de fala intenso.'"
            ]
          },
          "execution_count": 163,
          "metadata": {},
          "output_type": "execute_result"
        }
      ],
      "source": [
        "text"
      ]
    },
    {
      "cell_type": "code",
      "execution_count": null,
      "id": "ed5d9669",
      "metadata": {
        "id": "ed5d9669"
      },
      "outputs": [],
      "source": [
        "result = speech_synthesizer.speak_text_async(text).get()"
      ]
    },
    {
      "cell_type": "code",
      "execution_count": null,
      "id": "6c24d843",
      "metadata": {
        "id": "6c24d843",
        "outputId": "fc7cae91-a98f-46fd-8eec-0f120de128ef"
      },
      "outputs": [
        {
          "name": "stdout",
          "output_type": "stream",
          "text": [
            "Speech synthesized to speaker for text [Neste guia de instruções, você saberá como reconhecer e transcrever a fala humana, geralmente chamada de conversão de fala intenso.]\n"
          ]
        }
      ],
      "source": [
        "if result.reason == speechsdk.ResultReason.SynthesizingAudioCompleted:\n",
        "    print(\"Speech synthesized to speaker for text [{}]\".format(text))\n",
        "elif result.reason == speechsdk.ResultReason.Canceled:\n",
        "    cancellation_details = result.cancellation_details\n",
        "    print(\"Speech synthesis canceled: {}\".format(cancellation_details.reason))\n",
        "    if cancellation_details.reason == speechsdk.CancellationReason.Error:\n",
        "        if cancellation_details.error_details:\n",
        "            print(\"Error details: {}\".format(cancellation_details.error_details))\n",
        "    print(\"Did you update the subscription info?\")"
      ]
    },
    {
      "cell_type": "code",
      "execution_count": null,
      "id": "9c76cadc",
      "metadata": {
        "id": "9c76cadc"
      },
      "outputs": [],
      "source": []
    }
  ],
  "metadata": {
    "kernelspec": {
      "display_name": "Python 3 (ipykernel)",
      "language": "python",
      "name": "python3"
    },
    "language_info": {
      "codemirror_mode": {
        "name": "ipython",
        "version": 3
      },
      "file_extension": ".py",
      "mimetype": "text/x-python",
      "name": "python",
      "nbconvert_exporter": "python",
      "pygments_lexer": "ipython3",
      "version": "3.9.12"
    },
    "colab": {
      "provenance": [],
      "collapsed_sections": [],
      "include_colab_link": true
    }
  },
  "nbformat": 4,
  "nbformat_minor": 5
}